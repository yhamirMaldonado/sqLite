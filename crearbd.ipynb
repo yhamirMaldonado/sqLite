{
 "cells": [
  {
   "cell_type": "code",
   "execution_count": 1,
   "metadata": {},
   "outputs": [
    {
     "name": "stdout",
     "output_type": "stream",
     "text": [
      "(4, 'Algoritmos con Python', 8, 2017, 70.0, 'A', 1, 2, 2)\n",
      "(6, 'Ing. de Software', 9, 2000, 56.0, 'A', 4, 2, 3)\n",
      "(7, 'Organización de PC', 9, 2016, 60.0, 'A', 1, 2, 7)\n",
      "(2, 'Sistemas Operativos', 14, 2016, 59.0, 'A', 3, 4, 1)\n"
     ]
    }
   ],
   "source": [
    "import sqlite3\n",
    "conexion = sqlite3.connect(\"bdbiblioteca.db\")\n",
    "cursor = conexion.cursor()\n",
    "consulta = \"\"\" SELECT * \n",
    "                FROM LIBRO\n",
    "                WHERE\n",
    "                    precio >= 55\n",
    "                ORDER BY titulo\n",
    "            \"\"\"\n",
    "cursor = conexion.cursor()\n",
    "cursor.execute(consulta)\n",
    "libros = cursor.fetchall()\n",
    "# Acá libros es una lista... entonces utilizamos un for\n",
    "\n",
    "for libro in libros:\n",
    "    print(libro)\n",
    "conexion.close()\n"
   ]
  },
  {
   "cell_type": "code",
   "execution_count": 3,
   "metadata": {},
   "outputs": [],
   "source": [
    "import sqlite3 \n",
    "conexion = sqlite3.connect(\"bdbiblioteca.db\")\n",
    "cursor = conexion.cursor()\n",
    "consulta = \"\"\" DELETE FROM EDITORIAL\n",
    "                WHERE\n",
    "                    IDEDITORIAL = 5\n",
    "            \"\"\"\n",
    "cursor = conexion.cursor()\n",
    "cursor.execute(consulta)\n",
    "conexion.commit()\n",
    "conexion.close()\n"
   ]
  },
  {
   "cell_type": "code",
   "execution_count": 4,
   "metadata": {},
   "outputs": [],
   "source": [
    "import sqlite3\n",
    "conexion = sqlite3.connect(\"bdbiblioteca.db\")\n",
    "cursor = conexion.cursor()\n",
    "consulta = \"\"\" UPDATE EDITORIAL\n",
    "                SET\n",
    "                    NOMBRE = 'Editorial Imprenta Unión'\n",
    "                WHERE\n",
    "                    IDEDITORIAL = 1\n",
    "            \"\"\"\n",
    "cursor = conexion.cursor()\n",
    "cursor.execute(consulta)\n",
    "conexion.commit()\n",
    "conexion.close()\n"
   ]
  }
 ],
 "metadata": {
  "interpreter": {
   "hash": "ad2bdc8ecc057115af97d19610ffacc2b4e99fae6737bb82f5d7fb13d2f2c186"
  },
  "kernelspec": {
   "display_name": "Python 3.9.12 ('base')",
   "language": "python",
   "name": "python3"
  },
  "language_info": {
   "codemirror_mode": {
    "name": "ipython",
    "version": 3
   },
   "file_extension": ".py",
   "mimetype": "text/x-python",
   "name": "python",
   "nbconvert_exporter": "python",
   "pygments_lexer": "ipython3",
   "version": "3.9.12"
  },
  "orig_nbformat": 4
 },
 "nbformat": 4,
 "nbformat_minor": 2
}
